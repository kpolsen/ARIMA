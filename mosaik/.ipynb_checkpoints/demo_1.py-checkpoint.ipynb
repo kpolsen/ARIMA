{
 "cells": [
  {
   "cell_type": "code",
   "execution_count": 2,
   "metadata": {},
   "outputs": [],
   "source": [
    "# simulator_mosaik.py\n",
    "\"\"\"\n",
    "Mosaik interface for the example simulator.\n",
    "\n",
    "\"\"\"\n",
    "import mosaik_api\n",
    "\n",
    "import simulator"
   ]
  },
  {
   "cell_type": "code",
   "execution_count": 3,
   "metadata": {},
   "outputs": [],
   "source": [
    "META = {\n",
    "    'models': {\n",
    "        'ExampleModel': {\n",
    "            'public': True,\n",
    "            'params': ['init_val'],\n",
    "            'attrs': ['delta', 'val'],\n",
    "        },\n",
    "    },\n",
    "}"
   ]
  },
  {
   "cell_type": "code",
   "execution_count": 5,
   "metadata": {},
   "outputs": [],
   "source": [
    "class ExampleSim(mosaik_api.Simulator):\n",
    "    def __init__(self):\n",
    "        super().__init__(META)\n",
    "        self.simulator = simulator.Simulator()\n",
    "        self.eid_prefix = 'Model_'\n",
    "        self.entities = {}  # Maps EIDs to model indices in self.simulator\n",
    "    def init(self, sid, eid_prefix=None):\n",
    "        if eid_prefix is not None:\n",
    "            self.eid_prefix = eid_prefix\n",
    "        return self.meta"
   ]
  },
  {
   "cell_type": "code",
   "execution_count": null,
   "metadata": {},
   "outputs": [],
   "source": []
  }
 ],
 "metadata": {
  "kernelspec": {
   "display_name": "Python 3",
   "language": "python",
   "name": "python3"
  },
  "language_info": {
   "codemirror_mode": {
    "name": "ipython",
    "version": 3
   },
   "file_extension": ".py",
   "mimetype": "text/x-python",
   "name": "python",
   "nbconvert_exporter": "python",
   "pygments_lexer": "ipython3",
   "version": "3.6.5"
  }
 },
 "nbformat": 4,
 "nbformat_minor": 2
}
