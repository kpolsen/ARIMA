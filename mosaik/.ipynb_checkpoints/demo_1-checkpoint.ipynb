{
 "cells": [
  {
   "cell_type": "markdown",
   "metadata": {},
   "source": [
    "# Mosaik demo\n",
    "<br>\n",
    "Source: https://mosaik.readthedocs.io/en/stable/tutorial/demo1.html#the-scenario <br>\n",
    "Last edited: July 18 2018"
   ]
  },
  {
   "cell_type": "markdown",
   "metadata": {},
   "source": [
    "Import package mosaik module and util submodule"
   ]
  },
  {
   "cell_type": "code",
   "execution_count": null,
   "metadata": {},
   "outputs": [],
   "source": [
    "import mosaik\n",
    "import mosaik.util"
   ]
  },
  {
   "cell_type": "markdown",
   "metadata": {},
   "source": [
    "### Sim config. and other parameters like total time of simulation\n",
    "OBS: uses 'simulator_mosaik.py' and 'collector.py' stored in the same folder"
   ]
  },
  {
   "cell_type": "code",
   "execution_count": null,
   "metadata": {},
   "outputs": [],
   "source": [
    "SIM_CONFIG = {\n",
    "    'ExampleSim': {\n",
    "        'python': 'simulator_mosaik:ExampleSim',\n",
    "    },\n",
    "    'Collector': {\n",
    "        'cmd': '/home/karen/code/anaconda3/bin/python collector.py %(addr)s',\n",
    "    },\n",
    "}\n",
    "END = 10 * 60  # 10 minutes"
   ]
  },
  {
   "cell_type": "markdown",
   "metadata": {},
   "source": [
    "Create World"
   ]
  },
  {
   "cell_type": "code",
   "execution_count": null,
   "metadata": {},
   "outputs": [],
   "source": [
    "world = mosaik.World(SIM_CONFIG,debug=True)"
   ]
  },
  {
   "cell_type": "markdown",
   "metadata": {},
   "source": [
    "Start simulators, instantiate models and connect entities"
   ]
  },
  {
   "cell_type": "code",
   "execution_count": null,
   "metadata": {},
   "outputs": [],
   "source": [
    "# Start simulators\n",
    "examplesim = world.start('ExampleSim', eid_prefix='Model_')\n",
    "collector = world.start('Collector', step_size=60)\n",
    "\n",
    "# Instantiate models\n",
    "model = examplesim.ExampleModel(init_val=2)\n",
    "monitor = collector.Monitor()\n",
    "\n",
    "# Connect entities\n",
    "world.connect(model, monitor, 'val', 'delta')\n",
    "\n",
    "# Create more entities\n",
    "more_models = examplesim.ExampleModel.create(2, init_val=3)\n",
    "mosaik.util.connect_many_to_one(world, more_models, monitor, 'val', 'delta')"
   ]
  },
  {
   "cell_type": "markdown",
   "metadata": {},
   "source": [
    "Run simulation"
   ]
  },
  {
   "cell_type": "code",
   "execution_count": null,
   "metadata": {
    "scrolled": true
   },
   "outputs": [],
   "source": [
    "# Run simulation\n",
    "world.run(until=END)"
   ]
  },
  {
   "cell_type": "code",
   "execution_count": 1,
   "metadata": {},
   "outputs": [
    {
     "name": "stdout",
     "output_type": "stream",
     "text": [
      "Starting \"ExampleSim\" as \"ExampleSim-0\" ...\n",
      "ExampleSim\n",
      "Starting \"Collector\" as \"Collector-0\" ...\n",
      "Collector\n",
      "Starting simulation.\n",
      "\n",
      "Progress: 5.00%\r\n",
      "Progress: 10.00%\r\n",
      "Progress: 15.00%\r\n",
      "Progress: 20.00%\r\n",
      "Progress: 25.00%\r\n",
      "Progress: 30.00%\r\n",
      "Progress: 35.00%\r\n",
      "Progress: 40.00%\r\n",
      "Progress: 45.00%\r\n",
      "Progress: 50.00%\r\n",
      "Progress: 55.00%\r\n",
      "Progress: 60.00%\r\n",
      "Progress: 65.00%\r\n",
      "Progress: 70.00%\r\n",
      "Progress: 75.00%\r\n",
      "Progress: 80.00%\r\n",
      "Progress: 85.00%\r\n",
      "Progress: 90.00%\r\n",
      "Progress: 95.00%\r\n",
      "Progress: 100.00%\r",
      "Simulation finished successfully.\n"
     ]
    }
   ],
   "source": [
    "# QUICK demo_1.py\n",
    "import mosaik\n",
    "import mosaik.util\n",
    "\n",
    "\n",
    "# Sim config. and other parameters\n",
    "SIM_CONFIG = {\n",
    "    'ExampleSim': {\n",
    "        'python': 'simulator_mosaik:ExampleSim',\n",
    "    },\n",
    "    'Collector': {\n",
    "        'cmd': 'python collector.py %(addr)s',\n",
    "    },\n",
    "}\n",
    "END = 10 * 60  # 10 minutes\n",
    "\n",
    "# Create World\n",
    "world = mosaik.World(SIM_CONFIG,debug=True)\n",
    "\n",
    "# Start simulators\n",
    "examplesim = world.start('ExampleSim', eid_prefix='Model_')\n",
    "collector = world.start('Collector', step_size=60)\n",
    "\n",
    "# Instantiate models\n",
    "model = examplesim.ExampleModel(init_val=2)\n",
    "monitor = collector.Monitor()\n",
    "\n",
    "# Connect entities\n",
    "world.connect(model, monitor, 'val', 'delta')\n",
    "\n",
    "# Create more entities\n",
    "more_models = examplesim.ExampleModel.create(2, init_val=3)\n",
    "mosaik.util.connect_many_to_one(world, more_models, monitor, 'val', 'delta')\n",
    "\n",
    "# Run simulation\n",
    "world.run(until=END)"
   ]
  },
  {
   "cell_type": "markdown",
   "metadata": {},
   "source": [
    "### Problems\n",
    "Bottom part of collector.py (\"Collected data:\") is not being used."
   ]
  },
  {
   "cell_type": "code",
   "execution_count": null,
   "metadata": {},
   "outputs": [],
   "source": []
  }
 ],
 "metadata": {
  "kernelspec": {
   "display_name": "Python 3",
   "language": "python",
   "name": "python3"
  },
  "language_info": {
   "codemirror_mode": {
    "name": "ipython",
    "version": 3
   },
   "file_extension": ".py",
   "mimetype": "text/x-python",
   "name": "python",
   "nbconvert_exporter": "python",
   "pygments_lexer": "ipython3",
   "version": "3.6.5"
  }
 },
 "nbformat": 4,
 "nbformat_minor": 2
}
