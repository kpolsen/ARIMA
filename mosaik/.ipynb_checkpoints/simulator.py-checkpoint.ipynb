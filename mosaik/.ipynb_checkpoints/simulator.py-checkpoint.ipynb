{
 "cells": [
  {
   "cell_type": "markdown",
   "metadata": {},
   "source": [
    "# Simple mosaik example\n",
    "<br>\n",
    "Reference: http://mosaik.readthedocs.io/en/latest/tutorials/demo1.html<br>\n",
    "Last edited: July 17 2018"
   ]
  },
  {
   "cell_type": "code",
   "execution_count": 7,
   "metadata": {},
   "outputs": [
    {
     "name": "stdout",
     "output_type": "stream",
     "text": [
      "Simulation finished with data:\n",
      "0: [1, 21]\n",
      "1: [1, 43]\n"
     ]
    }
   ],
   "source": [
    "# simulator.py\n",
    "\"\"\"\n",
    "This module contains a simple example simulator.\n",
    "\n",
    "\"\"\"\n",
    "\n",
    "\n",
    "class Model:\n",
    "    \"\"\"Simple model that increases its value *val* with some *delta* every\n",
    "    step.\n",
    "\n",
    "    You can optionally set the initial value *init_val*. It defaults to ``0``.\n",
    "\n",
    "    \"\"\"\n",
    "    def __init__(self, init_val=0):\n",
    "        self.val = init_val\n",
    "        self.delta = 1\n",
    "\n",
    "    def step(self):\n",
    "        \"\"\"Perform a simulation step by adding *delta* to *val*.\"\"\"\n",
    "        self.val += self.delta\n",
    "\n",
    "\n",
    "class Simulator(object):\n",
    "    \"\"\"Simulates a number of ``Model`` models and collects some data.\"\"\"\n",
    "    def __init__(self):\n",
    "        self.models = []\n",
    "        self.data = []\n",
    "\n",
    "    def add_model(self, init_val):\n",
    "        \"\"\"Create an instances of ``Model`` with *init_val*.\"\"\"\n",
    "        model = Model(init_val)\n",
    "        self.models.append(model)\n",
    "        self.data.append([])  # Add list for simulation data\n",
    "\n",
    "    def step(self, deltas=None):\n",
    "        \"\"\"Set new model inputs from *deltas* to the models and perform a\n",
    "        simulatino step.\n",
    "\n",
    "        *deltas* is a dictionary that maps model indices to new delta values\n",
    "        for the model.\n",
    "\n",
    "        \"\"\"\n",
    "        if deltas:\n",
    "            # Set new deltas to model instances\n",
    "            for idx, delta in deltas.items():\n",
    "                self.models[idx].delta = delta\n",
    "\n",
    "        # Step models and collect data\n",
    "        for i, model in enumerate(self.models):\n",
    "            model.step()\n",
    "            self.data[i].append(model.val)\n",
    "\n",
    "\n",
    "if __name__ == '__main__':\n",
    "    # This is how the simulator could be used:\n",
    "    sim = Simulator()\n",
    "    for i in range(2):\n",
    "        sim.add_model(init_val=0)\n",
    "    sim.step()\n",
    "    sim.step({0: 20, 1: 42})\n",
    "    print('Simulation finished with data:')\n",
    "    for i, inst in enumerate(sim.data):\n",
    "        print('%d: %s' % (i, inst))"
   ]
  },
  {
   "cell_type": "code",
   "execution_count": null,
   "metadata": {},
   "outputs": [],
   "source": []
  }
 ],
 "metadata": {
  "kernelspec": {
   "display_name": "Python 3",
   "language": "python",
   "name": "python3"
  },
  "language_info": {
   "codemirror_mode": {
    "name": "ipython",
    "version": 3
   },
   "file_extension": ".py",
   "mimetype": "text/x-python",
   "name": "python",
   "nbconvert_exporter": "python",
   "pygments_lexer": "ipython3",
   "version": "3.6.5"
  }
 },
 "nbformat": 4,
 "nbformat_minor": 2
}
