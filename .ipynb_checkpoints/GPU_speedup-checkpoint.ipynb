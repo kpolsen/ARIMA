{
 "cells": [
  {
   "cell_type": "markdown",
   "metadata": {},
   "source": [
    "# Notes on PyOpenCL mainly.\n",
    "## See original notes by Derek Mendez here: \n",
    "http://prickly-pythons.github.io/python_code/pricklies_speedops.html"
   ]
  },
  {
   "cell_type": "code",
   "execution_count": 10,
   "metadata": {
    "collapsed": true
   },
   "outputs": [],
   "source": [
    "import pyopencl\n",
    "import numpy as np\n",
    "import time as time"
   ]
  },
  {
   "cell_type": "markdown",
   "metadata": {},
   "source": [
    "## Method # 1: pure numpy"
   ]
  },
  {
   "cell_type": "code",
   "execution_count": 6,
   "metadata": {
    "collapsed": true
   },
   "outputs": [],
   "source": [
    "# Define a method that will \n",
    "# calculate I(q) where q is a vector \n",
    "# and I is a complex number:\n",
    "def method1(q_vecs, atom_vecs):\n",
    "    Nq = q_vecs.shape[0]\n",
    "    ampsR = np.zeros( Nq ) \n",
    "    ampsI = np.zeros( Nq )\n",
    "    for i_q, q in enumerate( q_vecs):\n",
    "        qx,qy,qz = q\n",
    "        for i_atom, atom in enumerate( atom_vecs):\n",
    "            ax,ay,az = atom\n",
    "            phase = qx*ax + qy*ay + qz*az\n",
    "            ampsR[i_q] += np.cos( -phase)\n",
    "            ampsI[i_q] += np.sin( -phase)\n",
    "    I = ampsR**2 + ampsI**2 \n",
    "    return I"
   ]
  },
  {
   "cell_type": "code",
   "execution_count": 7,
   "metadata": {
    "collapsed": true
   },
   "outputs": [],
   "source": [
    "# Set up random set of q (qx,qy,qz) vectors and atom_vecs vectors\n",
    "q_vecs = np.random.random((10000, 3))\n",
    "# pick a random set of ax,ay,az (100 atom vectors)\n",
    "atom_vecs = np.random.random((100, 3))"
   ]
  },
  {
   "cell_type": "code",
   "execution_count": 11,
   "metadata": {
    "collapsed": true
   },
   "outputs": [],
   "source": [
    "# profiling of this method:\n",
    "t1 = time.time()\n",
    "I = method1(q_vecs, atom_vecs)\n",
    "t2 = time.time()"
   ]
  },
  {
   "cell_type": "code",
   "execution_count": 15,
   "metadata": {},
   "outputs": [
    {
     "name": "stdout",
     "output_type": "stream",
     "text": [
      "Method 1 took 4.51 seconds\n"
     ]
    }
   ],
   "source": [
    "print('Method 1 took %.4s seconds' % (t2-t1))"
   ]
  },
  {
   "cell_type": "markdown",
   "metadata": {
    "collapsed": true
   },
   "source": [
    "OBS: You can also do profiling of method1 by creating a separate file, see profiling_method1.py.\n",
    "I cloned and installed the profiler from:  https://github.com/rkern/line_profiler. Also, I changed the first line of kernprof.py to  !/Users/Karen/anaconda2/bin/python2. "
   ]
  },
  {
   "cell_type": "markdown",
   "metadata": {},
   "source": [
    "Run profiling with:\n",
    "```\n",
    "kernprof -l profiling_method1.py\n",
    "py2 -m line_profiler profiling_method1.py.lprof\n",
    "```\n",
    "Which gives me:"
   ]
  },
  {
   "cell_type": "raw",
   "metadata": {
    "collapsed": true
   },
   "source": [
    "Timer unit: 1e-06 s\n",
    "\n",
    "Total time: 7.496 s\n",
    "File: profiling_method1.py\n",
    "Function: method1 at line 6\n",
    "\n",
    "Line #      Hits         Time  Per Hit   % Time  Line Contents\n",
    "==============================================================\n",
    "     6                                           @profile  # this bit is important!\n",
    "     7                                           def method1(q_vecs, atom_vecs):\n",
    "     8         1            6      6.0      0.0      Nq = q_vecs.shape[0]\n",
    "     9         1           58     58.0      0.0      ampsR = np.zeros( Nq ) \n",
    "    10         1           31     31.0      0.0      ampsI = np.zeros( Nq )\n",
    "    11     10001         7554      0.8      0.1      for i_q, q in enumerate( q_vecs):\n",
    "    12     10000        14548      1.5      0.2          qx,qy,qz = q\n",
    "    13   1010000       673043      0.7      9.0          for i_atom, atom in enumerate( atom_vecs):\n",
    "    14   1000000      1449462      1.4     19.3              ax,ay,az = atom\n",
    "    15   1000000       929126      0.9     12.4              phase = qx*ax + qy*ay + qz*az\n",
    "    16   1000000      2241111      2.2     29.9              ampsR[i_q] += np.cos( -phase)\n",
    "    17   1000000      2180874      2.2     29.1              ampsI[i_q] += np.sin( -phase)\n",
    "    18         1          191    191.0      0.0      I = ampsR**2 + ampsI**2 \n",
    "    19         1            1      1.0      0.0      return I"
   ]
  },
  {
   "cell_type": "code",
   "execution_count": null,
   "metadata": {
    "collapsed": true
   },
   "outputs": [],
   "source": []
  }
 ],
 "metadata": {
  "kernelspec": {
   "display_name": "Python 2",
   "language": "python",
   "name": "python2"
  },
  "language_info": {
   "codemirror_mode": {
    "name": "ipython",
    "version": 2
   },
   "file_extension": ".py",
   "mimetype": "text/x-python",
   "name": "python",
   "nbconvert_exporter": "python",
   "pygments_lexer": "ipython2",
   "version": "2.7.13"
  }
 },
 "nbformat": 4,
 "nbformat_minor": 2
}
